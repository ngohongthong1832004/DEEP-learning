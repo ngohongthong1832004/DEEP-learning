{
 "cells": [
  {
   "cell_type": "code",
   "execution_count": 2,
   "id": "950e42c0",
   "metadata": {},
   "outputs": [
    {
     "name": "stdout",
     "output_type": "stream",
     "text": [
      "Dataset được tải về: /home/bbsw/.cache/kagglehub/datasets/anshulm257/rice-disease-dataset/versions/1\n",
      "Dataset đã được lưu vào: /home/bbsw/thong/deep_learning/tk1/data/rice-disease-dataset\n"
     ]
    }
   ],
   "source": [
    "import kagglehub\n",
    "import shutil\n",
    "import os\n",
    "\n",
    "# Download latest version (tải dataset)\n",
    "path = kagglehub.dataset_download(\"anshulm257/rice-disease-dataset\")\n",
    "print(\"Dataset được tải về:\", path)\n",
    "\n",
    "# Đường dẫn đích (folder data trong tk1)\n",
    "dest_path = os.path.abspath(\"../data/rice-disease-dataset\")\n",
    "\n",
    "# Copy toàn bộ dataset về folder data\n",
    "if os.path.exists(dest_path):\n",
    "    shutil.rmtree(dest_path)  # Xóa nếu đã có dữ liệu cũ\n",
    "shutil.copytree(path, dest_path)\n",
    "\n",
    "print(\"Dataset đã được lưu vào:\", dest_path)\n"
   ]
  },
  {
   "cell_type": "code",
   "execution_count": 1,
   "id": "1474b75b",
   "metadata": {},
   "outputs": [
    {
     "name": "stderr",
     "output_type": "stream",
     "text": [
      "/home/bbsw/thong/deep_learning/.venv/lib/python3.10/site-packages/tqdm/auto.py:21: TqdmWarning: IProgress not found. Please update jupyter and ipywidgets. See https://ipywidgets.readthedocs.io/en/stable/user_install.html\n",
      "  from .autonotebook import tqdm as notebook_tqdm\n"
     ]
    },
    {
     "name": "stdout",
     "output_type": "stream",
     "text": [
      "Dataset được tải về: /home/bbsw/.cache/kagglehub/datasets/bappine/rice-leaf-bacterial-and-fungal-disease-dataset/versions/1\n",
      "Dataset đã được lưu vào: /home/bbsw/thong/deep_learning/tk1/data/data_test\n"
     ]
    }
   ],
   "source": [
    "import kagglehub\n",
    "import shutil\n",
    "import os\n",
    "\n",
    "# Download latest version (tải dataset)\n",
    "path = kagglehub.dataset_download(\"bappine/rice-leaf-bacterial-and-fungal-disease-dataset\")\n",
    "print(\"Dataset được tải về:\", path)\n",
    "\n",
    "# Đường dẫn đích (folder data trong tk1)\n",
    "dest_path = os.path.abspath(\"../data/data_test\")\n",
    "\n",
    "# Copy toàn bộ dataset về folder data\n",
    "if os.path.exists(dest_path):\n",
    "    shutil.rmtree(dest_path)  # Xóa nếu đã có dữ liệu cũ\n",
    "shutil.copytree(path, dest_path)\n",
    "\n",
    "print(\"Dataset đã được lưu vào:\", dest_path)\n"
   ]
  },
  {
   "cell_type": "code",
   "execution_count": 10,
   "id": "e4f42747",
   "metadata": {},
   "outputs": [
    {
     "name": "stdout",
     "output_type": "stream",
     "text": [
      "Dataset được tải về: /home/bbsw/.cache/kagglehub/datasets/nirmalsankalana/rice-leaf-disease-image/versions/1\n",
      "Dataset đã được lưu vào: /home/bbsw/thong/deep_learning/tk1/data/rice-leaf-disease-image\n"
     ]
    }
   ],
   "source": [
    "import kagglehub\n",
    "import shutil\n",
    "import os\n",
    "\n",
    "# Download latest version (tải dataset)\n",
    "path = kagglehub.dataset_download(\"nirmalsankalana/rice-leaf-disease-image\")\n",
    "print(\"Dataset được tải về:\", path)\n",
    "\n",
    "# Đường dẫn đích (folder data trong tk1)\n",
    "dest_path = os.path.abspath(\"../data/rice-leaf-disease-image\")\n",
    "\n",
    "# Copy toàn bộ dataset về folder data\n",
    "if os.path.exists(dest_path):\n",
    "    shutil.rmtree(dest_path)  # Xóa nếu đã có dữ liệu cũ\n",
    "shutil.copytree(path, dest_path)\n",
    "\n",
    "print(\"Dataset đã được lưu vào:\", dest_path)\n"
   ]
  },
  {
   "cell_type": "code",
   "execution_count": 11,
   "id": "538ab1a3",
   "metadata": {},
   "outputs": [
    {
     "name": "stdout",
     "output_type": "stream",
     "text": [
      "Dataset được tải về: /home/bbsw/.cache/kagglehub/datasets/vbookshelf/rice-leaf-diseases/versions/1\n",
      "Dataset đã được lưu vào: /home/bbsw/thong/deep_learning/tk1/data/rice-leaf-diseases\n"
     ]
    }
   ],
   "source": [
    "import kagglehub\n",
    "import shutil\n",
    "import os\n",
    "\n",
    "# Download latest version (tải dataset)\n",
    "path = kagglehub.dataset_download(\"vbookshelf/rice-leaf-diseases\")\n",
    "print(\"Dataset được tải về:\", path)\n",
    "\n",
    "# Đường dẫn đích (folder data trong tk1)\n",
    "dest_path = os.path.abspath(\"../data/rice-leaf-diseases\")\n",
    "\n",
    "# Copy toàn bộ dataset về folder data\n",
    "if os.path.exists(dest_path):\n",
    "    shutil.rmtree(dest_path)  # Xóa nếu đã có dữ liệu cũ\n",
    "shutil.copytree(path, dest_path)\n",
    "\n",
    "print(\"Dataset đã được lưu vào:\", dest_path)"
   ]
  },
  {
   "cell_type": "code",
   "execution_count": 12,
   "id": "c427bbc8",
   "metadata": {},
   "outputs": [
    {
     "name": "stdout",
     "output_type": "stream",
     "text": [
      "Dataset được tải về: /home/bbsw/.cache/kagglehub/datasets/dedeikhsandwisaputra/rice-leafs-disease-dataset/versions/1\n",
      "Dataset đã được lưu vào: /home/bbsw/thong/deep_learning/tk1/data/rice-leafs-disease-dataset\n"
     ]
    }
   ],
   "source": [
    "import kagglehub\n",
    "import shutil\n",
    "import os\n",
    "\n",
    "# Download latest version (tải dataset)\n",
    "path = kagglehub.dataset_download(\"dedeikhsandwisaputra/rice-leafs-disease-dataset\")\n",
    "print(\"Dataset được tải về:\", path)\n",
    "\n",
    "# Đường dẫn đích (folder data trong tk1)\n",
    "dest_path = os.path.abspath(\"../data/rice-leafs-disease-dataset\")\n",
    "\n",
    "# Copy toàn bộ dataset về folder data\n",
    "if os.path.exists(dest_path):\n",
    "    shutil.rmtree(dest_path)  # Xóa nếu đã có dữ liệu cũ\n",
    "shutil.copytree(path, dest_path)\n",
    "\n",
    "print(\"Dataset đã được lưu vào:\", dest_path)"
   ]
  },
  {
   "cell_type": "code",
   "execution_count": 13,
   "id": "4b192c67",
   "metadata": {},
   "outputs": [
    {
     "name": "stdout",
     "output_type": "stream",
     "text": [
      "Dataset được tải về: /home/bbsw/.cache/kagglehub/datasets/nizorogbezuode/rice-leaf-images/versions/1\n",
      "Dataset đã được lưu vào: /home/bbsw/thong/deep_learning/tk1/data/rice-leaf-images\n"
     ]
    }
   ],
   "source": [
    "import kagglehub\n",
    "import shutil\n",
    "import os\n",
    "\n",
    "# Download latest version (tải dataset)\n",
    "path = kagglehub.dataset_download(\"nizorogbezuode/rice-leaf-images\")\n",
    "print(\"Dataset được tải về:\", path)\n",
    "\n",
    "# Đường dẫn đích (folder data trong tk1)\n",
    "dest_path = os.path.abspath(\"../data/rice-leaf-images\")\n",
    "\n",
    "# Copy toàn bộ dataset về folder data\n",
    "if os.path.exists(dest_path):\n",
    "    shutil.rmtree(dest_path)  # Xóa nếu đã có dữ liệu cũ\n",
    "shutil.copytree(path, dest_path)\n",
    "\n",
    "print(\"Dataset đã được lưu vào:\", dest_path)"
   ]
  },
  {
   "cell_type": "code",
   "execution_count": 14,
   "id": "9e169f5f",
   "metadata": {},
   "outputs": [
    {
     "name": "stdout",
     "output_type": "stream",
     "text": [
      "Resuming download from 3631218688 bytes (9243634203 bytes left)...\n",
      "Resuming download from https://www.kaggle.com/api/v1/datasets/download/minhhuy2810/rice-diseases-image-dataset?dataset_version_number=3 (3631218688/12874852891) bytes left.\n"
     ]
    },
    {
     "name": "stderr",
     "output_type": "stream",
     "text": [
      "100%|██████████| 12.0G/12.0G [06:03<00:00, 25.4MB/s]  "
     ]
    },
    {
     "name": "stdout",
     "output_type": "stream",
     "text": [
      "Extracting files...\n"
     ]
    },
    {
     "name": "stderr",
     "output_type": "stream",
     "text": [
      "\n"
     ]
    },
    {
     "name": "stdout",
     "output_type": "stream",
     "text": [
      "Dataset được tải về: /home/bbsw/.cache/kagglehub/datasets/minhhuy2810/rice-diseases-image-dataset/versions/3\n",
      "Dataset đã được lưu vào: /home/bbsw/thong/deep_learning/tk1/data/rice-diseases-image-dataset\n"
     ]
    }
   ],
   "source": [
    "import kagglehub\n",
    "import shutil\n",
    "import os\n",
    "\n",
    "# Download latest version (tải dataset)\n",
    "path = kagglehub.dataset_download(\"minhhuy2810/rice-diseases-image-dataset\")\n",
    "print(\"Dataset được tải về:\", path)\n",
    "\n",
    "# Đường dẫn đích (folder data trong tk1)\n",
    "dest_path = os.path.abspath(\"../data/rice-diseases-image-dataset\")\n",
    "\n",
    "# Copy toàn bộ dataset về folder data\n",
    "if os.path.exists(dest_path):\n",
    "    shutil.rmtree(dest_path)  # Xóa nếu đã có dữ liệu cũ\n",
    "shutil.copytree(path, dest_path)\n",
    "\n",
    "print(\"Dataset đã được lưu vào:\", dest_path)"
   ]
  },
  {
   "cell_type": "code",
   "execution_count": null,
   "id": "e2aae389",
   "metadata": {},
   "outputs": [],
   "source": []
  }
 ],
 "metadata": {
  "kernelspec": {
   "display_name": ".venv",
   "language": "python",
   "name": "python3"
  },
  "language_info": {
   "codemirror_mode": {
    "name": "ipython",
    "version": 3
   },
   "file_extension": ".py",
   "mimetype": "text/x-python",
   "name": "python",
   "nbconvert_exporter": "python",
   "pygments_lexer": "ipython3",
   "version": "3.10.12"
  }
 },
 "nbformat": 4,
 "nbformat_minor": 5
}
